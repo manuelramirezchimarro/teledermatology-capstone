{
 "cells": [
  {
   "cell_type": "markdown",
   "id": "4682f1e2-244f-4128-885b-e7ab3eb70a10",
   "metadata": {},
   "source": [
    "## 1. Import Libraries\n",
    "In this step, we import the necessary Python libraries for data manipulation, visualization, image processing, and machine learning tasks. Warnings are suppressed for readability."
   ]
  },
  {
   "cell_type": "code",
   "execution_count": 6,
   "id": "836922d9-40cd-4094-be06-7e32b5b15cf3",
   "metadata": {},
   "outputs": [
    {
     "name": "stdout",
     "output_type": "stream",
     "text": [
      "Collecting opencv-python\n",
      "  Downloading opencv_python-4.11.0.86-cp37-abi3-macosx_13_0_x86_64.whl.metadata (20 kB)\n",
      "Requirement already satisfied: numpy>=1.17.0 in /Library/Frameworks/Python.framework/Versions/3.9/lib/python3.9/site-packages (from opencv-python) (1.26.4)\n",
      "Downloading opencv_python-4.11.0.86-cp37-abi3-macosx_13_0_x86_64.whl (56.7 MB)\n",
      "\u001b[2K   \u001b[90m━━━━━━━━━━━━━━━━━━━━━━━━━━━━━━━━━━━━━━━━\u001b[0m \u001b[32m56.7/56.7 MB\u001b[0m \u001b[31m9.0 MB/s\u001b[0m eta \u001b[36m0:00:00\u001b[0m00:01\u001b[0m00:01\u001b[0mm\n",
      "Installing collected packages: opencv-python\n",
      "Successfully installed opencv-python-4.11.0.86\n",
      "\n",
      "\u001b[1m[\u001b[0m\u001b[34;49mnotice\u001b[0m\u001b[1;39;49m]\u001b[0m\u001b[39;49m A new release of pip is available: \u001b[0m\u001b[31;49m25.0.1\u001b[0m\u001b[39;49m -> \u001b[0m\u001b[32;49m25.1.1\u001b[0m\n",
      "\u001b[1m[\u001b[0m\u001b[34;49mnotice\u001b[0m\u001b[1;39;49m]\u001b[0m\u001b[39;49m To update, run: \u001b[0m\u001b[32;49mpip install --upgrade pip\u001b[0m\n"
     ]
    }
   ],
   "source": [
    "!pip install opencv-python\n",
    "import pandas as pd\n",
    "import numpy as np\n",
    "import os\n",
    "import matplotlib.pyplot as plt\n",
    "import seaborn as sns\n",
    "from PIL import Image\n",
    "from sklearn.model_selection import train_test_split\n",
    "import cv2\n",
    "import shutil\n",
    "import warnings\n",
    "warnings.filterwarnings('ignore')"
   ]
  },
  {
   "cell_type": "markdown",
   "id": "f2113894-594f-4aad-9ff9-92a9365980e6",
   "metadata": {},
   "source": [
    "## 2. Load Metadata\n",
    "We load the metadata CSV file that accompanies the HAM10000 dermoscopic image dataset. This metadata includes important information like the diagnosis label (`dx`), patient age, sex, and lesion localization. We begin by previewing the data to understand its structure."
   ]
  },
  {
   "cell_type": "code",
   "execution_count": 7,
   "id": "dfe1982b-cc18-4ac3-acae-007cd013d7ea",
   "metadata": {},
   "outputs": [
    {
     "data": {
      "text/html": [
       "<div>\n",
       "<style scoped>\n",
       "    .dataframe tbody tr th:only-of-type {\n",
       "        vertical-align: middle;\n",
       "    }\n",
       "\n",
       "    .dataframe tbody tr th {\n",
       "        vertical-align: top;\n",
       "    }\n",
       "\n",
       "    .dataframe thead th {\n",
       "        text-align: right;\n",
       "    }\n",
       "</style>\n",
       "<table border=\"1\" class=\"dataframe\">\n",
       "  <thead>\n",
       "    <tr style=\"text-align: right;\">\n",
       "      <th></th>\n",
       "      <th>lesion_id</th>\n",
       "      <th>image_id</th>\n",
       "      <th>dx</th>\n",
       "      <th>dx_type</th>\n",
       "      <th>age</th>\n",
       "      <th>sex</th>\n",
       "      <th>localization</th>\n",
       "    </tr>\n",
       "  </thead>\n",
       "  <tbody>\n",
       "    <tr>\n",
       "      <th>0</th>\n",
       "      <td>HAM_0000118</td>\n",
       "      <td>ISIC_0027419</td>\n",
       "      <td>bkl</td>\n",
       "      <td>histo</td>\n",
       "      <td>80.0</td>\n",
       "      <td>male</td>\n",
       "      <td>scalp</td>\n",
       "    </tr>\n",
       "    <tr>\n",
       "      <th>1</th>\n",
       "      <td>HAM_0000118</td>\n",
       "      <td>ISIC_0025030</td>\n",
       "      <td>bkl</td>\n",
       "      <td>histo</td>\n",
       "      <td>80.0</td>\n",
       "      <td>male</td>\n",
       "      <td>scalp</td>\n",
       "    </tr>\n",
       "    <tr>\n",
       "      <th>2</th>\n",
       "      <td>HAM_0002730</td>\n",
       "      <td>ISIC_0026769</td>\n",
       "      <td>bkl</td>\n",
       "      <td>histo</td>\n",
       "      <td>80.0</td>\n",
       "      <td>male</td>\n",
       "      <td>scalp</td>\n",
       "    </tr>\n",
       "    <tr>\n",
       "      <th>3</th>\n",
       "      <td>HAM_0002730</td>\n",
       "      <td>ISIC_0025661</td>\n",
       "      <td>bkl</td>\n",
       "      <td>histo</td>\n",
       "      <td>80.0</td>\n",
       "      <td>male</td>\n",
       "      <td>scalp</td>\n",
       "    </tr>\n",
       "    <tr>\n",
       "      <th>4</th>\n",
       "      <td>HAM_0001466</td>\n",
       "      <td>ISIC_0031633</td>\n",
       "      <td>bkl</td>\n",
       "      <td>histo</td>\n",
       "      <td>75.0</td>\n",
       "      <td>male</td>\n",
       "      <td>ear</td>\n",
       "    </tr>\n",
       "  </tbody>\n",
       "</table>\n",
       "</div>"
      ],
      "text/plain": [
       "     lesion_id      image_id   dx dx_type   age   sex localization\n",
       "0  HAM_0000118  ISIC_0027419  bkl   histo  80.0  male        scalp\n",
       "1  HAM_0000118  ISIC_0025030  bkl   histo  80.0  male        scalp\n",
       "2  HAM_0002730  ISIC_0026769  bkl   histo  80.0  male        scalp\n",
       "3  HAM_0002730  ISIC_0025661  bkl   histo  80.0  male        scalp\n",
       "4  HAM_0001466  ISIC_0031633  bkl   histo  75.0  male          ear"
      ]
     },
     "execution_count": 7,
     "metadata": {},
     "output_type": "execute_result"
    }
   ],
   "source": [
    "# Load metadata CSV file from the HAM10000 dataset\n",
    "metadata = pd.read_csv('/Users/manuelramirez/Documents/teledermatology project/HAM10000_metadata.csv')\n",
    "metadata.head()"
   ]
  },
  {
   "cell_type": "markdown",
   "id": "9369e2a1-19f7-453e-9af0-a12c87b32629",
   "metadata": {},
   "source": [
    "## 3. Check for Duplicates and Missing Values\n",
    "We perform data quality checks to identify duplicate records and missing values. This helps us assess whether the dataset is clean or if it needs preprocessing to ensure consistency and completeness before modeling."
   ]
  },
  {
   "cell_type": "code",
   "execution_count": 8,
   "id": "26d572aa-9c53-4aed-b5b3-580ea30395d9",
   "metadata": {},
   "outputs": [
    {
     "data": {
      "text/plain": [
       "lesion_id        0\n",
       "image_id         0\n",
       "dx               0\n",
       "dx_type          0\n",
       "age             57\n",
       "sex              0\n",
       "localization     0\n",
       "dtype: int64"
      ]
     },
     "execution_count": 8,
     "metadata": {},
     "output_type": "execute_result"
    }
   ],
   "source": [
    "# Check for duplicates\n",
    "metadata.duplicated().sum()\n",
    "\n",
    "# Check for missing values\n",
    "metadata.isnull().sum()\n"
   ]
  },
  {
   "cell_type": "markdown",
   "id": "46b23049-2fc6-460e-8c90-5419fdb49583",
   "metadata": {},
   "source": [
    "## 4. Unique Values per Column\n",
    "Here, we inspect how many unique values each column contains. This helps us identify categorical columns and potential data encoding issues or inconsistencies."
   ]
  },
  {
   "cell_type": "code",
   "execution_count": 9,
   "id": "bf8750f1-210c-4d2a-8655-56e9514ce423",
   "metadata": {},
   "outputs": [
    {
     "name": "stdout",
     "output_type": "stream",
     "text": [
      "lesion_id: 7470 unique values\n",
      "image_id: 10015 unique values\n",
      "dx: 7 unique values\n",
      "dx_type: 4 unique values\n",
      "age: 18 unique values\n",
      "sex: 3 unique values\n",
      "localization: 15 unique values\n"
     ]
    }
   ],
   "source": [
    "for col in metadata.columns:\n",
    "    print(f\"{col}: {metadata[col].nunique()} unique values\")"
   ]
  },
  {
   "cell_type": "markdown",
   "id": "3ee8e765-cb68-4c3b-bde3-5e8c700e8bb6",
   "metadata": {},
   "source": [
    "## 5. Handle Missing Values\n",
    "To deal with missing values:\n",
    "- We replace missing values in the `age` column with the median, which is less sensitive to outliers than the mean.\n",
    "- For `sex` and `localization`, we replace missing values with 'unknown' to preserve the rows and avoid data loss."
   ]
  },
  {
   "cell_type": "code",
   "execution_count": 10,
   "id": "8a847b44-20b8-46fc-bdcc-d319052d46ac",
   "metadata": {},
   "outputs": [],
   "source": [
    "# Fill missing values in 'age' with the median\n",
    "metadata['age'] = metadata['age'].fillna(metadata['age'].median())\n",
    "\n",
    "# Fill missing values in 'sex' with 'unknown'\n",
    "metadata['sex'] = metadata['sex'].fillna('unknown')\n",
    "\n",
    "# Fill missing values in 'localization' with 'unknown'\n",
    "metadata['localization'] = metadata['localization'].fillna('unknown')"
   ]
  },
  {
   "cell_type": "markdown",
   "id": "f542da3c-7b01-48f0-8acf-cb3c3eeda454",
   "metadata": {},
   "source": [
    "## 6. Visualize Class Distribution\n",
    "We visualize the distribution of diagnostic categories using a bar chart. This helps us assess class imbalance, which will later guide decisions about model training strategies such as resampling or augmentation."
   ]
  },
  {
   "cell_type": "code",
   "execution_count": 11,
   "id": "6e62280a-e358-4906-b93d-76647fe6c591",
   "metadata": {},
   "outputs": [
    {
     "data": {
      "image/png": "[encoded data removed]",
      "text/plain": [
       "<Figure size 640x480 with 1 Axes>"
      ]
     },
     "metadata": {},
     "output_type": "display_data"
    }
   ],
   "source": [
    "sns.countplot(x='dx', data=metadata)\n",
    "plt.title('Distribution of Diagnoses')\n",
    "plt.xticks(rotation=45)\n",
    "plt.show()"
   ]
  },
  {
   "cell_type": "markdown",
   "id": "b01f5a07-e183-4b7d-9442-d57be535fc56",
   "metadata": {},
   "source": [
    "## 7. Summary Statistics and Outlier Detection\n",
    "We generate summary statistics for numeric columns (especially `age`) and plot a boxplot to visually check for outliers. Although we do not remove outliers at this stage, this insight helps us understand the spread and central tendency of key features."
   ]
  },
  {
   "cell_type": "code",
   "execution_count": 12,
   "id": "10ae7d4d-0343-46ad-a594-246e92a038de",
   "metadata": {},
   "outputs": [
    {
     "data": {
      "image/png": "[encoded data removed]",
      "text/plain": [
       "<Figure size 640x480 with 1 Axes>"
      ]
     },
     "metadata": {},
     "output_type": "display_data"
    }
   ],
   "source": [
    "# Summary statistics\n",
    "metadata.describe()\n",
    "\n",
    "# Boxplot to visually inspect age outliers\n",
    "sns.boxplot(data=metadata, x='age')\n",
    "plt.title('Age Distribution and Outliers')\n",
    "plt.show()\n"
   ]
  },
  {
   "cell_type": "markdown",
   "id": "6c2c620d-b52e-4085-8e7b-29a0fe6f06ba",
   "metadata": {},
   "source": [
    "## 8. Verify Existence of Image Files\n",
    "Since our classification task relies on image data, we verify that all images listed in the metadata are present in the specified image directory. This ensures the integrity of the dataset and prevents errors during model training."
   ]
  },
  {
   "cell_type": "code",
   "execution_count": 13,
   "id": "cb3c0e8e-5f68-4495-9a0b-d56b4e8747f1",
   "metadata": {},
   "outputs": [
    {
     "name": "stdout",
     "output_type": "stream",
     "text": [
      "Missing images: 0\n"
     ]
    }
   ],
   "source": [
    "# Check that all image files exist across both folders\n",
    "img_dirs = ['HAM10000_images_part_1', 'HAM10000_images_part_2']\n",
    "missing = []\n",
    "\n",
    "for image_id in metadata['image_id']:\n",
    "    found = False\n",
    "    for folder in img_dirs:\n",
    "        image_path = os.path.join(folder, image_id + \".jpg\")\n",
    "        if os.path.isfile(image_path):\n",
    "            found = True\n",
    "            break\n",
    "    if not found:\n",
    "        missing.append(image_id)\n",
    "\n",
    "print(f\"Missing images: {len(missing)}\")\n"
   ]
  },
  {
   "cell_type": "markdown",
   "id": "d0af7b06-de7c-42b7-8838-72d4242be4d7",
   "metadata": {},
   "source": [
    "## 9. Encode Diagnosis Labels\n",
    "We map each unique diagnosis (`dx`) value to a numeric label using a dictionary. This encoding allows the model to interpret the target variable during supervised learning."
   ]
  },
  {
   "cell_type": "code",
   "execution_count": 14,
   "id": "e754c069-3b53-4f50-a375-28aac9e514ac",
   "metadata": {},
   "outputs": [],
   "source": [
    "# Create a label encoder dictionary\n",
    "label_dict = {label: idx for idx, label in enumerate(metadata['dx'].unique())}\n",
    "metadata['label'] = metadata['dx'].map(label_dict)\n",
    "\n",
    "# Save cleansed dataset\n",
    "metadata.to_csv('cleansed_HAM10000_metadata.csv', index=False)"
   ]
  },
  {
   "cell_type": "code",
   "execution_count": null,
   "id": "052a694c-5689-48bf-82fd-6d0518490454",
   "metadata": {},
   "outputs": [],
   "source": []
  }
 ],
 "metadata": {
  "kernelspec": {
   "display_name": "Python 3 (ipykernel)",
   "language": "python",
   "name": "python3"
  },
  "language_info": {
   "codemirror_mode": {
    "name": "ipython",
    "version": 3
   },
   "file_extension": ".py",
   "mimetype": "text/x-python",
   "name": "python",
   "nbconvert_exporter": "python",
   "pygments_lexer": "ipython3",
   "version": "3.9.5"
  }
 },
 "nbformat": 4,
 "nbformat_minor": 5
}
